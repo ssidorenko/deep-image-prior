{
 "cells": [
  {
   "cell_type": "code",
   "execution_count": null,
   "metadata": {},
   "outputs": [],
   "source": [
    "import os\n",
    "from utils.denoising_utils import *\n",
    "\n",
    "FOLDER = \"BSDS300/images/train/\"\n",
    "IMAGES = [FOLDER + img for img in os.listdir(FOLDER)][:100]\n",
    "np.set_printoptions(suppress=True)\n",
    "def L2(A):\n",
    "    A_1D = np.reshape(A, (-1))\n",
    "    return np.sqrt(A_1D.dot(A_1D) / A_1D.shape[0])\n",
    "    "
   ]
  },
  {
   "cell_type": "code",
   "execution_count": null,
   "metadata": {},
   "outputs": [],
   "source": [
    "sigmas = np.arange(0,105,5)\n",
    "mus = np.arange(0,256,1)\n",
    "out = np.empty((sigmas.shape[0], mus.shape[0]), dtype=np.float)\n",
    "\n",
    "for i, sigma in enumerate(sigmas):\n",
    "# for i, sigma in enumerate([50]):\n",
    "    print(\"Sigma = {}\".format(sigma))\n",
    "    n = 10000000\n",
    "    v = np.random.uniform(size=n)\n",
    "    noise = np.random.normal(loc=np.full(n, 0), scale=sigma/255)\n",
    "    unclipped = v+noise\n",
    "    clipped = np.clip(unclipped, 0.0, 1.0)\n",
    "#     plt.scatter(v, clipped)\n",
    "    v *= 256\n",
    "    v = v.astype(int, copy=False)\n",
    "    clipped *= 256\n",
    "    clipped = clipped.astype(int, copy=False)\n",
    "    D = clipped - v\n",
    "    \n",
    "    for j in range(0, 256):\n",
    "        out[i][j] = L2(D[v == j])\n",
    "plt.plot(out[20])"
   ]
  },
  {
   "cell_type": "code",
   "execution_count": null,
   "metadata": {},
   "outputs": [],
   "source": [
    "table = torch.from_numpy(out)\n",
    "# torch.save(table, \"sigma_mu_to_std.tensor\")\n",
    "if 'table' not in locals():\n",
    "    table = torch.load(\"sigma_mu_to_std.tensor\")\n",
    "g_table = table.cuda()\n",
    "\n",
    "dtype = torch.cuda.FloatTensor\n",
    "\n",
    "def pred_std(image, sigma):\n",
    "    image = torch.from_numpy(image).type(dtype)\n",
    "#     pred_m = image.clone()\n",
    "    pred = 0.0\n",
    "    for channel in range(image.shape[0]):\n",
    "        for x in range(image.shape[1]):\n",
    "            for y in range(image.shape[2]):\n",
    "                v = (g_table[int(sigma/5)][int(255.99999*image[channel][x][y])])**2\n",
    "                pred += v\n",
    "#                 pred_m[channel][x][y] = v\n",
    "#     print(pred_m.cpu().numpy())\n",
    "    return np.sqrt(pred/image.nelement())\n",
    "#     return pred/image.nelement() #+ sigma*0.02"
   ]
  },
  {
   "cell_type": "code",
   "execution_count": null,
   "metadata": {},
   "outputs": [],
   "source": [
    "stddev = []\n",
    "mean = []\n",
    "sigma = 50\n",
    "for fname in IMAGES:\n",
    "    img_pil = crop_image(get_image(fname, -1)[0], d=32)\n",
    "    img_np = pil_to_np(img_pil)\n",
    "    _, img_noisy_np = get_noisy_image(img_np, sigma/255)\n",
    "    diff_n = img_noisy_np - img_np\n",
    "    computed = L2(diff_n)*255\n",
    "#     expected = diff_n.std()*255\n",
    "    expected = pred_std(img_noisy_np, sigma)\n",
    "    print(\"Computed:\\t{:.2f}\\tPredicted:\\t{:.2f}\\tDelta:  {:.2f}\\tvar:\\t{:.2f}\\tmean:\\t{:.2f}\".format(\n",
    "        computed, expected, computed-expected, img_noisy_np.std(), img_noisy_np.mean()\n",
    "        \n",
    "    ))\n"
   ]
  },
  {
   "cell_type": "code",
   "execution_count": null,
   "metadata": {},
   "outputs": [],
   "source": [
    "# print(table[20][127])\n",
    "sigma = 25\n",
    "img_np = np.full((1,100,100), 0.0)\n",
    "# img_np[0,:50,:] = 0.0\n",
    "_, img_noisy_np = get_noisy_image(img_np, sigma/256)\n",
    "# img_np\n",
    "diff_n = img_noisy_np - img_np\n",
    "print(pred_std(img_noisy_np, sigma))\n",
    "# print(diff_n.std()*255)\n",
    "print(L2(diff_n)*255)\n",
    "print(img_np)\n",
    "print(img_noisy_np)\n",
    "print(diff_n)"
   ]
  },
  {
   "cell_type": "code",
   "execution_count": null,
   "metadata": {},
   "outputs": [],
   "source": []
  },
  {
   "cell_type": "code",
   "execution_count": null,
   "metadata": {},
   "outputs": [],
   "source": []
  }
 ],
 "metadata": {
  "kernelspec": {
   "display_name": "Python 3",
   "language": "python",
   "name": "python3"
  },
  "language_info": {
   "codemirror_mode": {
    "name": "ipython",
    "version": 3
   },
   "file_extension": ".py",
   "mimetype": "text/x-python",
   "name": "python",
   "nbconvert_exporter": "python",
   "pygments_lexer": "ipython3"
  }
 },
 "nbformat": 4,
 "nbformat_minor": 2
}
