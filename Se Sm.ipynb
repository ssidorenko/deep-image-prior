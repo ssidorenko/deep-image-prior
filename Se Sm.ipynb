{
 "cells": [
  {
   "cell_type": "code",
   "execution_count": null,
   "metadata": {},
   "outputs": [],
   "source": [
    "import os\n",
    "from utils.denoising_utils import *\n",
    "\n",
    "FOLDER = \"BSDS300/images/train/\"\n",
    "IMAGES = [FOLDER + img for img in os.listdir(FOLDER)][:]\n",
    "def L2(A):\n",
    "    A_1D = np.reshape(A, (-1))\n",
    "    return np.sqrt(A_1D.dot(A_1D) / A_1D.shape[0])\n",
    " "
   ]
  },
  {
   "cell_type": "code",
   "execution_count": null,
   "metadata": {},
   "outputs": [],
   "source": [
    "coeffs_se = [-3.1389654e-6, -7.0210049e-1, -1.8598057, 3.9881199, -8.3760888, 9.7330082, -6.9596693, 2.9464712, -7.3358565e-1, 9.9630886e-2, -5.7155088e-3]\n",
    "coeffs_sm = [1.6923658e-1, 7.0309281e-1, 3.7234715e-2, 2.4377832e-2, 2.0282884e-3, -1.7851033e-5, -8.5123452e-5, -2.6295693e-5, 3.2172868e-7, 1.4308530e-6]\n",
    "\n",
    "import torch\n",
    "dtype = torch.cuda.FloatTensor\n",
    "# p = np.polynomial.Polynomial(coeffs)\n",
    "def p_se(x):\n",
    "    return sum([(x**p)*coeff for p, coeff in enumerate(coeffs_se)])\n",
    "\n",
    "def p_sm(x):\n",
    "    return sum([(x**p)*coeff for p, coeff in enumerate(coeffs_sm)])\n",
    "\n",
    "def Se(ksi):\n",
    "    if not torch.is_tensor(ksi):\n",
    "        ksi = dtype([ksi])\n",
    "    return 1 - torch.exp(p_se(torch.sqrt(ksi)))\n",
    "\n",
    "def Sm(mu):\n",
    "    if not torch.is_tensor(mu):\n",
    "        mu = dtype([mu])\n",
    "    return (1+torch.tanh(p_sm(mu)))/2\n",
    "\n",
    "def clipped_var(image, variance):\n",
    "    return variance*Se(image/variance)*Se((1-image)/variance)# + 0.5*variance*Se(image/variance)*Se((1-image)/variance)\n",
    "\n",
    "def rms(values):\n",
    "    return torch.sqrt((torch.sum(values*values))/values.nelement())\n",
    "\n",
    "def average_clipped_var(image, variance):\n",
    "    image = torch.from_numpy(image).type(dtype)\n",
    "    pred = torch.sqrt(torch.sum(clipped_var(image, variance)**2)/image.nelement())# + 0.6*variance**2 - 0.005 * variance\n",
    "    # coeffs = [0.018521612453785252, 0.50432376, 1.40543164, 0.16467695, 0.21288617] # no cross\n",
    "    # coeffs = [0.00470733087124342, 0.9962607806987671, -2.5801294201977707, -0.06255021879385336, -0.6016675682100312, 3.6189465922690225]\n",
    "    # coeffs = [-0.021957900592563084, 1.918386322644575, -7.04142476640072]\n",
    "    coeffs = [0.00010340009150736074, 1.0680248634648952, -2.9185771099300277, -0.06193161972243111, -0.6269524747313732, 3.7192874183112843]\n",
    "    vars_ = [1, pred, pred**2, variance, variance**2, pred*variance]\n",
    "#     vars_ = [1, pred, pred**2]\n",
    "    return sum([c * v for c, v in zip(coeffs, vars_)])\n",
    "#     return corrected\n",
    "    return pred\n",
    "    #     return torch.mean(clipped_var(image, variance))"
   ]
  },
  {
   "cell_type": "code",
   "execution_count": null,
   "metadata": {},
   "outputs": [],
   "source": [
    "clipped_var(1.0, 100/255)*255"
   ]
  },
  {
   "cell_type": "code",
   "execution_count": null,
   "metadata": {},
   "outputs": [],
   "source": [
    "n = 1000000\n",
    "sigma = 50\n",
    "v = np.full(n, 1.0)\n",
    "noise = np.random.normal(loc=np.full(n, 0), scale=sigma/255)\n",
    "clipped = np.clip(v + noise, 0.0, 1.0)\n",
    "# print(255*np.abs(-v + clipped))\n",
    "print(255*L2(-v + clipped))\n",
    "print(255*average_clipped_var(clipped, sigma/255))\n",
    "# print(clipped)\n",
    "# print(noise)"
   ]
  },
  {
   "cell_type": "code",
   "execution_count": null,
   "metadata": {},
   "outputs": [],
   "source": [
    "stddev = []\n",
    "mean = []\n",
    "sigmas = np.arange(5,105,5)\n",
    "sigmas = [25,50,75,100]\n",
    "sigmas = [25]\n",
    "bigdata = []\n",
    "handles = []\n",
    "for sigma in sigmas:\n",
    "    print(sigma)\n",
    "    sigma = float(sigma)\n",
    "    data = []\n",
    "    for fname in IMAGES:\n",
    "        img_pil = crop_image(get_image(fname, -1)[0], d=32)\n",
    "        img_np = pil_to_np(img_pil)\n",
    "        _, img_noisy_np = get_noisy_image(img_np, sigma/255, clip=True)\n",
    "        diff_n = img_noisy_np - img_np\n",
    "\n",
    "\n",
    "        computed = diff_n.std()*255\n",
    "        expected = 255*average_clipped_var(img_noisy_np, sigma/255)\n",
    "#         data.append((computed, float(expected)))\n",
    "        data.append((computed, float(expected), sigma))\n",
    "#         print(\"Computed:\\t{:.2f}\\tPredicted:\\t{:.2f}\\tDelta:  {:.2f}\\tvar:\\t{:.2f}\\tmean:\\t{:.2f}\".format(\n",
    "#             computed, expected, computed-expected, img_noisy_np.std(), img_noisy_np.mean()\n",
    "#         ))\n",
    "    handles.append(plt.scatter([x[0] for x in data], [float(y[1]) for y in data], label=\"σ = {}\".format(sigma)))\n",
    "    m, M = min([x[0] for x in data]), max([x[0] for x in data])\n",
    "    plt.plot([m, M], [m, M], color=\"k\", linestyle='-', linewidth=2)\n",
    "    bigdata.extend(data)\n",
    "#     plt.show()\n",
    "plt.xlabel(\"Measured standard deviation of the method noise\")\n",
    "plt.ylabel(\"Predicted standard deviation of the method noise\")\n",
    "plt.legend()\n",
    "plt.savefig(fname=\"mn_pred.pdf\", format='pdf')"
   ]
  },
  {
   "cell_type": "code",
   "execution_count": null,
   "metadata": {},
   "outputs": [],
   "source": [
    "from sklearn.preprocessing import PolynomialFeatures\n",
    "from sklearn.linear_model import LinearRegression\n",
    "from sklearn.pipeline import Pipeline\n",
    "bigdata_ = bigdata\n",
    "# poly PolynomialFeatures(degree=2)\n",
    "lin = LinearRegression(fit_intercept=True)\n",
    "bigdata_norm = [[x/255 for x in row] for row in bigdata_]\n",
    "\n",
    "X = [[x[1], x[1]**2, x[2], x[2]**2, x[1]*x[2]] for x in bigdata_norm]\n",
    "# X = [[x[1], x[1]**2] for x in bigdata_norm]\n",
    "Y = [x[0] for x in bigdata_norm]\n",
    "\n",
    "lin.fit(X, Y)\n",
    "print([lin.intercept_] + list(lin.coef_))\n",
    "print(lin.score(X, Y))\n"
   ]
  },
  {
   "cell_type": "code",
   "execution_count": null,
   "metadata": {},
   "outputs": [],
   "source": [
    "bigdata_"
   ]
  },
  {
   "cell_type": "code",
   "execution_count": null,
   "metadata": {},
   "outputs": [],
   "source": []
  }
 ],
 "metadata": {
  "kernelspec": {
   "display_name": "Python 3",
   "language": "python",
   "name": "python3"
  },
  "language_info": {
   "codemirror_mode": {
    "name": "ipython",
    "version": 3
   },
   "file_extension": ".py",
   "mimetype": "text/x-python",
   "name": "python",
   "nbconvert_exporter": "python",
   "pygments_lexer": "ipython3"
  }
 },
 "nbformat": 4,
 "nbformat_minor": 2
}
